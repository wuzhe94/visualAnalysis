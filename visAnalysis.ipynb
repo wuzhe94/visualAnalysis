{
 "cells": [
  {
   "cell_type": "code",
   "execution_count": 1,
   "metadata": {
    "collapsed": true
   },
   "outputs": [],
   "source": [
    "import numpy as np\n",
    "import pandas as pd\n",
    "\n",
    "# make sure you have installed the Plotly package\n",
    "import plotly\n",
    "import plotly.plotly as py\n",
    "import plotly.graph_objs as go\n",
    "\n",
    "# fill in your username and api_key before using Plotly\n",
    "plotly.tools.set_credentials_file(username = '5005p', \n",
    "                                  api_key = 'njeG2Tu75B6pcDoUQQwL')\n",
    "\n",
    "data = pd.read('TestCenterInfo.csv')"
   ]
  },
  {
   "cell_type": "code",
   "execution_count": 2,
   "metadata": {
    "collapsed": true
   },
   "outputs": [],
   "source": [
    "test_events = pd.read_csv('G:/5005/ACT_TestEvents.csv')\n",
    "all_points = pd.read_csv('G:/5005/ACT_AllPointsFile.csv')\n",
    "test_centers = pd.read_csv('G:/5005/testcenter_3.csv')\n",
    "test_events['utility'] = test_events.ASSIGNED / test_events.CAPACITY\n",
    "\n",
    "data = pd.merge(test_events, all_points, left_on = 'TestCenterID', right_on = 'TESTCENTERID', how = 'left')\n",
    "data = pd.merge(data, test_centers, on = ['LATITUDE', 'LONGITUDE'], how = 'left')\n",
    "data = data.rename(columns = {'TestCenterID':'test_center_id',\n",
    "                       'LATITUDE':'lat',\n",
    "                       'LONGITUDE':'lon',\n",
    "                       'testcenterstate':'state',\n",
    "                       'POPULATION':'population'})\n",
    "data.YEAR = data.YEAR.apply(lambda x: str(x))\n",
    "data.MONTH = data.MONTH.apply(lambda x: str(x))\n",
    "data.MONTH = data.MONTH.apply(lambda x: str(0) + x if len(x) == 1 else x)\n",
    "data['time'] = data.YEAR + data.MONTH\n",
    "data['time'] = data.time.apply(lambda x: int(x))\n",
    "data.MONTH = data.MONTH.apply(lambda x: int(x))\n",
    "data.YEAR = data.YEAR.apply(lambda x: int(x))\n",
    "del data['TestEventID']\n",
    "del data['TESTDATE']\n",
    "del data['CYCLE_DESCRIPTION']\n",
    "del data['ADMIN_GROUP']\n",
    "del data['TESTCENTERID']\n",
    "del data['POINTID']\n",
    "del data['TCTYPE']\n",
    "del data['INSTITUTION']\n",
    "del data['Unnamed: 0']\n",
    "del data['POINTTYPE']"
   ]
  },
  {
   "cell_type": "code",
   "execution_count": 3,
   "metadata": {
    "collapsed": true
   },
   "outputs": [],
   "source": []
  },
  {
   "cell_type": "code",
   "execution_count": 52,
   "metadata": {},
   "outputs": [
    {
     "data": {
      "text/html": [
       "<iframe id=\"igraph\" scrolling=\"no\" style=\"border:none;\" seamless=\"seamless\" src=\"https://plot.ly/~qswdef/34.embed\" height=\"525px\" width=\"100%\"></iframe>"
      ],
      "text/plain": [
       "<plotly.tools.PlotlyDisplay object>"
      ]
     },
     "execution_count": 52,
     "metadata": {},
     "output_type": "execute_result"
    }
   ],
   "source": [
    "# the change curve of utilization of each states \n",
    "trace = []\n",
    "for i in data.state.unique():\n",
    "    state_i = data[data.state == i]\n",
    "    y = []\n",
    "    for j in sorted(state_i.time.unique()):\n",
    "        y.append(state_i[state_i.time == j].utility.mean())\n",
    "    trace_i = go.Scatter(\n",
    "        x = np.array(range(len(state_i.time.unique()))),\n",
    "        y = np.array(y),\n",
    "        mode = \"lines + markers\",\n",
    "        name = i)\n",
    "    trace.append(trace_i)\n",
    "\n",
    "py.iplot(trace, filename = 'change curve of utilization')\n"
   ]
  },
  {
   "cell_type": "code",
   "execution_count": 99,
   "metadata": {},
   "outputs": [
    {
     "data": {
      "text/html": [
       "<iframe id=\"igraph\" scrolling=\"no\" style=\"border:none;\" seamless=\"seamless\" src=\"https://plot.ly/~qswdef/36.embed\" height=\"525px\" width=\"100%\"></iframe>"
      ],
      "text/plain": [
       "<plotly.tools.PlotlyDisplay object>"
      ]
     },
     "execution_count": 99,
     "metadata": {},
     "output_type": "execute_result"
    }
   ],
   "source": [
    "# distribution cure of utilization of a certain state in the first half and the second half of the year\n",
    "state_i = data[data.state == 'florida']\n",
    "\n",
    "first_half = np.array(state_i[state_i.MONTH < 6].utility)\n",
    "second_half = np.array(state_i[state_i.MONTH >= 6].utility)\n",
    "\n",
    "trace_first = go.Histogram(\n",
    "    x = first_half,\n",
    "    opacity = 0.75,\n",
    "    name = 'first half year',\n",
    ")\n",
    "trace_second = go.Histogram(\n",
    "    x = second_half,\n",
    "    opacity = 0.55,\n",
    "    name = 'second half year'\n",
    ")\n",
    "\n",
    "trace = [trace_first, trace_second]\n",
    "\n",
    "layout = go.Layout(barmode = 'overlay')\n",
    "\n",
    "fig = go.Figure(data = trace, layout = layout)\n",
    "\n",
    "py.iplot(fig, filename = 'distribution curve of utilization')\n"
   ]
  },
  {
   "cell_type": "code",
   "execution_count": 68,
   "metadata": {},
   "outputs": [
    {
     "data": {
      "text/html": [
       "<iframe id=\"igraph\" scrolling=\"no\" style=\"border:none;\" seamless=\"seamless\" src=\"https://plot.ly/~qswdef/44.embed\" height=\"525px\" width=\"100%\"></iframe>"
      ],
      "text/plain": [
       "<plotly.tools.PlotlyDisplay object>"
      ]
     },
     "execution_count": 68,
     "metadata": {},
     "output_type": "execute_result"
    }
   ],
   "source": [
    "# observe the utilization pattern in different seasons by using contour plot\n",
    "\n",
    "x=['spring', 'summer', 'autumn' , 'winter']\n",
    "y=[]\n",
    "z=[]\n",
    "for i in data.state.unique()[6:10]:\n",
    "    y.append(i)\n",
    "\n",
    "for i in y:\n",
    "    state_i = data[data.state == i]\n",
    "    state_i_spring = state_i[((state_i.MONTH>0)&(state_i.MONTH<=3))]\n",
    "    z.append(state_i_spring.utility.mean())\n",
    "    \n",
    "for i in y:\n",
    "    state_i = data[data.state == i]\n",
    "    state_i_spring = state_i[((state_i.MONTH>0)&(state_i.MONTH<=6))]\n",
    "    z.append(state_i_spring.utility.mean())\n",
    "for i in y:\n",
    "    state_i = data[data.state == i]\n",
    "    state_i_spring = state_i[((state_i.MONTH>6)&(state_i.MONTH<=9))]\n",
    "    z.append(state_i_spring.utility.mean())\n",
    "for i in y:\n",
    "    state_i = data[data.state == i]\n",
    "    state_i_spring = state_i[((state_i.MONTH>9)&(state_i.MONTH<=12))]\n",
    "    z.append(state_i_spring.utility.mean())\n",
    "t= []\n",
    "for i in range(4):\n",
    "    t.append(z[i * 4:(i+1) * 4])\n",
    "trace = [\n",
    "    go.Contour(\n",
    "        z = t,\n",
    "        x = y,\n",
    "        y = x\n",
    "    )]\n",
    "\n",
    "py.iplot(trace)"
   ]
  },
  {
   "cell_type": "code",
   "execution_count": 82,
   "metadata": {},
   "outputs": [
    {
     "data": {
      "text/html": [
       "<iframe id=\"igraph\" scrolling=\"no\" style=\"border:none;\" seamless=\"seamless\" src=\"https://plot.ly/~qswdef/46.embed\" height=\"525px\" width=\"100%\"></iframe>"
      ],
      "text/plain": [
       "<plotly.tools.PlotlyDisplay object>"
      ]
     },
     "execution_count": 82,
     "metadata": {},
     "output_type": "execute_result"
    }
   ],
   "source": [
    "trace = []\n",
    "for i in data.state.unique():\n",
    "    a = np.random.randint(50,200)\n",
    "    b = np.random.randint(50,200)\n",
    "    c = np.random.randint(50,200)\n",
    "    r = []\n",
    "    t = ['FEB','APR','JUN','SEP','OCT','DEC']\n",
    "    state_i = data[data.state == i]\n",
    "    r.append(state_i[state_i.MONTH == 2].utility.mean())\n",
    "    r.append(state_i[state_i.MONTH == 4].utility.mean())\n",
    "    r.append(state_i[state_i.MONTH == 6].utility.mean())\n",
    "    r.append(state_i[state_i.MONTH == 9].utility.mean())\n",
    "    r.append(state_i[state_i.MONTH == 10].utility.mean())\n",
    "    r.append(state_i[state_i.MONTH == 12].utility.mean())\n",
    "    trace_i = go.Area(\n",
    "        r = r,\n",
    "        t = t,\n",
    "        name = i,\n",
    "        marker = dict(color = 'rgb({},{},{})'.format(a, b, c)))\n",
    "    trace.append(trace_i)\n",
    "\n",
    "layout = go.Layout(\n",
    "    title = 'low utilization detection',\n",
    "    font = dict(\n",
    "        size = 16\n",
    "    ),\n",
    "    legend = dict(\n",
    "        font = dict(\n",
    "            size = 16\n",
    "        )\n",
    "    ),\n",
    "    radialaxis = dict(\n",
    "        ticksuffix = '%'\n",
    "    ),\n",
    "    orientation = 270\n",
    ")\n",
    "fig = go.Figure(data = trace, layout = layout)\n",
    "py.iplot(fig, filename = 'low utilization detection')  "
   ]
  },
  {
   "cell_type": "code",
   "execution_count": 113,
   "metadata": {},
   "outputs": [
    {
     "data": {
      "text/html": [
       "<iframe id=\"igraph\" scrolling=\"no\" style=\"border:none;\" seamless=\"seamless\" src=\"https://plot.ly/~5005p/8.embed\" height=\"525px\" width=\"100%\"></iframe>"
      ],
      "text/plain": [
       "<plotly.tools.PlotlyDisplay object>"
      ]
     },
     "execution_count": 113,
     "metadata": {},
     "output_type": "execute_result"
    }
   ],
   "source": [
    "rawData = []\n",
    "for i in data.state.unique():\n",
    "    \n",
    "    point = {}\n",
    "    state_i = data[data.state == i]\n",
    "    point['population'] = (state_i.CAPACITY.mean() - data.CAPACITY.min())/(data.CAPACITY.max()-data.CAPACITY.min())\n",
    "    point['expense'] = (state_i.EXPENSE.mean() -data.EXPENSE.min())/(data.EXPENSE.max()-data.EXPENSE.min())\n",
    "    point['utility'] = (state_i.ASSIGNED.mean()  - data.ASSIGNED.min())/(data.ASSIGNED.max()-data.ASSIGNED.min())\n",
    "    point['label'] = i\n",
    "    rawData.append(point)\n",
    "\n",
    "\n",
    "def makeAxis(title, tickangle): \n",
    "    return {\n",
    "      'title': title,\n",
    "      'titlefont': { 'size': 20 },\n",
    "      'tickangle': tickangle,\n",
    "      'tickfont': { 'size': 15 },\n",
    "      'tickcolor': 'rgba(0,0,0,0)',\n",
    "      'ticklen': 5,\n",
    "      'showline': True,\n",
    "      'showgrid': True\n",
    "    }\n",
    "\n",
    "trace = [{ \n",
    "    'type': 'scatterternary',\n",
    "    'mode': 'markers',\n",
    "    'a': [i for i in map(lambda x: x['population'], rawData)],\n",
    "    'b': [i for i in map(lambda x: x['expense'], rawData)],\n",
    "    'c': [i for i in map(lambda x: x['utility'], rawData)],\n",
    "    'text': [i for i in map(lambda x: x['label'], rawData)],\n",
    "    'marker': {\n",
    "        'symbol': 100,\n",
    "        'color': '#DB7365',\n",
    "        'size': 14,\n",
    "        'line': { 'width': 2 }\n",
    "    },\n",
    "    }]\n",
    "\n",
    "layout = {\n",
    "    'ternary': {\n",
    "        'sum': 100,\n",
    "        'aaxis': makeAxis('population', 0),\n",
    "        'baxis': makeAxis('<br>expense', 45),\n",
    "        'caxis': makeAxis('<br>utility', -45)\n",
    "    },\n",
    "    'annotations': [{\n",
    "      'showarrow': False,\n",
    "      'text': 'Simple Ternary Plot with Markers',\n",
    "        'x': 0.5,\n",
    "        'y': 1.3,\n",
    "        'font': { 'size': 15 }\n",
    "    }]\n",
    "}\n",
    "\n",
    "fig = {'data': trace, 'layout': layout}\n",
    "py.iplot(fig, validate=False)"
   ]
  },
  {
   "cell_type": "code",
   "execution_count": 133,
   "metadata": {},
   "outputs": [
    {
     "data": {
      "text/html": [
       "<iframe id=\"igraph\" scrolling=\"no\" style=\"border:none;\" seamless=\"seamless\" src=\"https://plot.ly/~5005p/15.embed\" height=\"525px\" width=\"100%\"></iframe>"
      ],
      "text/plain": [
       "<plotly.tools.PlotlyDisplay object>"
      ]
     },
     "execution_count": 133,
     "metadata": {},
     "output_type": "execute_result"
    }
   ],
   "source": [
    "trace = []\n",
    "c = ['peru','darkviolet','deepskyblue','orangered','green']\n",
    "j=0\n",
    "for i in data.state.unique()[0:10]:\n",
    "    state_i = data[data.state == i]\n",
    "    a = np.random.randint(50,235)\n",
    "    b = np.random.randint(50,240)\n",
    "    c = np.random.randint(50,240)\n",
    "    trace_i = go.Scatter(\n",
    "        r = np.array(state_i.ASSIGNED),\n",
    "        t = np.array(state_i.CAPACITY),\n",
    "        mode = 'markers',\n",
    "        name = i,\n",
    "        marker = dict(\n",
    "            color='rgb({},{},{})'.format(a,b,c),\n",
    "            size=110,\n",
    "            line=dict(\n",
    "            color='white'\n",
    "\n",
    "            ),\n",
    "         opacity=0.7\n",
    "    )\n",
    "    )\n",
    "    trace.append(trace_i)\n",
    "\n",
    "layout = go.Layout(\n",
    "    title='Hobbs-Pearson Trials',\n",
    "    font=dict(\n",
    "        size=15\n",
    "    ),\n",
    "    plot_bgcolor='rgb(223, 223, 223)',\n",
    "    angularaxis=dict(\n",
    "        tickcolor='rgb(253,253,253)'\n",
    "    )\n",
    ")\n",
    "fig = go.Figure(data=trace, layout=layout)\n",
    "py.iplot(fig)"
   ]
  },
  {
   "cell_type": "code",
   "execution_count": 36,
   "metadata": {
    "collapsed": true
   },
   "outputs": [],
   "source": [
    "all_states = pd.read_csv('G:/5005/allstate.csv',usecols=[3,4,9,10],header=0,names=['LATITUDE','LONGITUDE','population','state'])"
   ]
  },
  {
   "cell_type": "code",
   "execution_count": 40,
   "metadata": {},
   "outputs": [
    {
     "data": {
      "text/plain": [
       "39118"
      ]
     },
     "execution_count": 40,
     "metadata": {},
     "output_type": "execute_result"
    }
   ],
   "source": [
    "len(all_states)"
   ]
  },
  {
   "cell_type": "code",
   "execution_count": 45,
   "metadata": {
    "collapsed": true
   },
   "outputs": [],
   "source": []
  },
  {
   "cell_type": "code",
   "execution_count": 48,
   "metadata": {},
   "outputs": [
    {
     "data": {
      "text/html": [
       "<div>\n",
       "<style scoped>\n",
       "    .dataframe tbody tr th:only-of-type {\n",
       "        vertical-align: middle;\n",
       "    }\n",
       "\n",
       "    .dataframe tbody tr th {\n",
       "        vertical-align: top;\n",
       "    }\n",
       "\n",
       "    .dataframe thead th {\n",
       "        text-align: right;\n",
       "    }\n",
       "</style>\n",
       "<table border=\"1\" class=\"dataframe\">\n",
       "  <thead>\n",
       "    <tr style=\"text-align: right;\">\n",
       "      <th></th>\n",
       "      <th>lat</th>\n",
       "      <th>lon</th>\n",
       "      <th>pop</th>\n",
       "      <th>name</th>\n",
       "    </tr>\n",
       "  </thead>\n",
       "  <tbody>\n",
       "    <tr>\n",
       "      <th>4</th>\n",
       "      <td>33.528867</td>\n",
       "      <td>-117.701175</td>\n",
       "      <td>4266.0</td>\n",
       "      <td>california</td>\n",
       "    </tr>\n",
       "    <tr>\n",
       "      <th>8</th>\n",
       "      <td>33.467371</td>\n",
       "      <td>-117.613509</td>\n",
       "      <td>2014.0</td>\n",
       "      <td>california</td>\n",
       "    </tr>\n",
       "    <tr>\n",
       "      <th>9</th>\n",
       "      <td>33.501860</td>\n",
       "      <td>-117.608646</td>\n",
       "      <td>2713.0</td>\n",
       "      <td>california</td>\n",
       "    </tr>\n",
       "    <tr>\n",
       "      <th>10</th>\n",
       "      <td>33.547238</td>\n",
       "      <td>-117.623761</td>\n",
       "      <td>1080.0</td>\n",
       "      <td>california</td>\n",
       "    </tr>\n",
       "    <tr>\n",
       "      <th>11</th>\n",
       "      <td>33.387723</td>\n",
       "      <td>-117.444758</td>\n",
       "      <td>2921.0</td>\n",
       "      <td>california</td>\n",
       "    </tr>\n",
       "  </tbody>\n",
       "</table>\n",
       "</div>"
      ],
      "text/plain": [
       "          lat         lon     pop        name\n",
       "4   33.528867 -117.701175  4266.0  california\n",
       "8   33.467371 -117.613509  2014.0  california\n",
       "9   33.501860 -117.608646  2713.0  california\n",
       "10  33.547238 -117.623761  1080.0  california\n",
       "11  33.387723 -117.444758  2921.0  california"
      ]
     },
     "execution_count": 48,
     "metadata": {},
     "output_type": "execute_result"
    }
   ],
   "source": [
    "data2.head()\n",
    "data2=data2.rename(columns={'state':'name',\"population\":'pop',\"LONGITUDE\":'lon',\"LATITUDE\":\"lat\"})\n",
    "data2.head()\n"
   ]
  },
  {
   "cell_type": "code",
   "execution_count": 61,
   "metadata": {},
   "outputs": [
    {
     "data": {
      "text/html": [
       "<iframe id=\"igraph\" scrolling=\"no\" style=\"border:none;\" seamless=\"seamless\" src=\"https://plot.ly/~5005p/17.embed\" height=\"525px\" width=\"100%\"></iframe>"
      ],
      "text/plain": [
       "<plotly.tools.PlotlyDisplay object>"
      ]
     },
     "execution_count": 61,
     "metadata": {},
     "output_type": "execute_result"
    }
   ],
   "source": [
    "import plotly.plotly as py\n",
    "import pandas as pd\n",
    "\n",
    "df=data2\n",
    "\n",
    "df['text'] = df['name'] + '<br>Population ' + (df['pop']).astype(str)+' million'\n",
    "limits = [(0,500),(500,2000),(2000,4000),(4000,9000),(9000,13000)]\n",
    "#colors = [\"rgb(0,116,217)\",\"rgb(255,65,54)\",\"rgb(133,20,75)\",\"rgb(255,133,27)\",\"lightgrey\",\"rgb(0,116,217)\",\"rgb(255,65,54)\",\"rgb(133,20,75)\",\"rgb(255,133,27)\",\"lightgrey\"]\n",
    "colors = []\n",
    "for i in range(len(limits)):\n",
    "    colors.append(\"rgb({},{},{})\".format(np.random.randint(100,220),np.random.randint(100,220),np.random.randint(100,220)))\n",
    "cities = []\n",
    "scale = 100\n",
    "\n",
    "for i in range(len(limits)):\n",
    "    lim = limits[i]\n",
    "    df_sub = df[lim[0]:lim[1]]\n",
    "    city = dict(\n",
    "        type = 'scattergeo',\n",
    "        locationmode = 'USA-states',\n",
    "        lon = df_sub['lon'],\n",
    "        lat = df_sub['lat'],\n",
    "        text = df_sub['text'],\n",
    "        marker = dict(\n",
    "            size = df_sub['pop']/scale,\n",
    "            color = colors[i],\n",
    "            line = dict(width=0.5, color='rgb(40,40,40)'),\n",
    "            sizemode = 'area'\n",
    "        ),\n",
    "        name = '{0} - {1}'.format(lim[0],lim[1]) )\n",
    "    cities.append(city)\n",
    "\n",
    "layout = dict(\n",
    "        title = '2014 US city populations<br>(Click legend to toggle traces)',\n",
    "        showlegend = True,\n",
    "        geo = dict(\n",
    "            scope='usa',\n",
    "            projection=dict( type='albers usa' ),\n",
    "            showland = True,\n",
    "            landcolor = 'rgb(217, 217, 217)',\n",
    "            subunitwidth=1,\n",
    "            countrywidth=1,\n",
    "            subunitcolor=\"rgb(255, 255, 255)\",\n",
    "            countrycolor=\"rgb(255, 255, 255)\"\n",
    "        ),\n",
    "    )\n",
    "\n",
    "fig = dict( data=cities, layout=layout )\n",
    "py.iplot( fig, validate=False, filename='d3-bubble-map-populations' )"
   ]
  },
  {
   "cell_type": "code",
   "execution_count": 52,
   "metadata": {},
   "outputs": [
    {
     "data": {
      "text/plain": [
       "12822.0"
      ]
     },
     "execution_count": 52,
     "metadata": {},
     "output_type": "execute_result"
    }
   ],
   "source": [
    "data2['pop'].max()"
   ]
  },
  {
   "cell_type": "code",
   "execution_count": null,
   "metadata": {
    "collapsed": true
   },
   "outputs": [],
   "source": []
  }
 ],
 "metadata": {
  "kernelspec": {
   "display_name": "Python 2",
   "language": "python",
   "name": "python2"
  },
  "language_info": {
   "codemirror_mode": {
    "name": "ipython",
    "version": 2
   },
   "file_extension": ".py",
   "mimetype": "text/x-python",
   "name": "python",
   "nbconvert_exporter": "python",
   "pygments_lexer": "ipython2",
   "version": "2.7.13"
  }
 },
 "nbformat": 4,
 "nbformat_minor": 2
}
