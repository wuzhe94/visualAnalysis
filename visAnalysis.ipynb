{
 "cells": [
  {
   "cell_type": "code",
   "execution_count": 1,
   "metadata": {
    "collapsed": true
   },
   "outputs": [],
   "source": [
    "import numpy as np\n",
    "import pandas as pd\n",
    "\n",
    "# make sure you have installed the Plotly package\n",
    "import plotly\n",
    "import plotly.plotly as py\n",
    "import plotly.graph_objs as go\n",
    "\n",
    "# fill in your username and api_key before using Plotly\n",
    "plotly.tools.set_credentials_file(username = '5005p', \n",
    "                                  api_key = 'njeG2Tu75B6pcDoUQQwL')\n",
    "\n",
    "data = pd.read_csv('TestCenterInfo.csv')"
   ]
  },
  {
   "cell_type": "code",
   "execution_count": 6,
   "metadata": {},
   "outputs": [
    {
     "data": {
      "text/html": [
       "<iframe id=\"igraph\" scrolling=\"no\" style=\"border:none;\" seamless=\"seamless\" src=\"https://plot.ly/~5005p/23.embed\" height=\"525px\" width=\"100%\"></iframe>"
      ],
      "text/plain": [
       "<plotly.tools.PlotlyDisplay object>"
      ]
     },
     "execution_count": 6,
     "metadata": {},
     "output_type": "execute_result"
    }
   ],
   "source": [
    "# the change curve of utilization of each states \n",
    "trace = []\n",
    "for i in data.state.unique():\n",
    "    state_i = data[data.state == i]\n",
    "    y = []\n",
    "    for j in sorted(state_i.time.unique()):\n",
    "        y.append(state_i[state_i.time == j].utilization.mean())\n",
    "    trace_i = go.Scatter(\n",
    "        x = np.array(range(len(state_i.time.unique()))),\n",
    "        y = np.array(y),\n",
    "        mode = \"lines + markers\",\n",
    "        name = i)\n",
    "    trace.append(trace_i)\n",
    "\n",
    "py.iplot(trace, filename = 'change curve of utilization')"
   ]
  },
  {
   "cell_type": "code",
   "execution_count": 8,
   "metadata": {},
   "outputs": [
    {
     "data": {
      "text/html": [
       "<iframe id=\"igraph\" scrolling=\"no\" style=\"border:none;\" seamless=\"seamless\" src=\"https://plot.ly/~5005p/25.embed\" height=\"525px\" width=\"100%\"></iframe>"
      ],
      "text/plain": [
       "<plotly.tools.PlotlyDisplay object>"
      ]
     },
     "execution_count": 8,
     "metadata": {},
     "output_type": "execute_result"
    }
   ],
   "source": [
    "# distribution cure of utilization of a certain state in the first half and the second half of the year\n",
    "state_i = data[data.state == 'florida']\n",
    "\n",
    "first_half = np.array(state_i[state_i.month < 6].utilization)\n",
    "second_half = np.array(state_i[state_i.month >= 6].utilization)\n",
    "\n",
    "trace_first = go.Histogram(\n",
    "    x = first_half,\n",
    "    opacity = 0.75,\n",
    "    name = 'first half year',\n",
    ")\n",
    "trace_second = go.Histogram(\n",
    "    x = second_half,\n",
    "    opacity = 0.55,\n",
    "    name = 'second half year'\n",
    ")\n",
    "\n",
    "trace = [trace_first, trace_second]\n",
    "\n",
    "layout = go.Layout(barmode = 'overlay')\n",
    "\n",
    "fig = go.Figure(data = trace, layout = layout)\n",
    "\n",
    "py.iplot(fig, filename = 'distribution curve of utilization')\n"
   ]
  },
  {
   "cell_type": "code",
   "execution_count": 9,
   "metadata": {},
   "outputs": [
    {
     "data": {
      "text/html": [
       "<iframe id=\"igraph\" scrolling=\"no\" style=\"border:none;\" seamless=\"seamless\" src=\"https://plot.ly/~5005p/27.embed\" height=\"525px\" width=\"100%\"></iframe>"
      ],
      "text/plain": [
       "<plotly.tools.PlotlyDisplay object>"
      ]
     },
     "execution_count": 9,
     "metadata": {},
     "output_type": "execute_result"
    }
   ],
   "source": [
    "# observe the utilization pattern in different seasons by using contour plot\n",
    "x=['spring', 'summer', 'autumn' , 'winter']\n",
    "y=[]\n",
    "z=[]\n",
    "\n",
    "for i in data.state.unique()[6:10]:\n",
    "    y.append(i)\n",
    "\n",
    "for i in y:\n",
    "    state_i = data[data.state == i]\n",
    "    state_i_spring = state_i[((state_i.month > 0) & (state_i.month <= 3))]\n",
    "    z.append(state_i_spring.utilization.mean())\n",
    "    \n",
    "for i in y:\n",
    "    state_i = data[data.state == i]\n",
    "    state_i_spring = state_i[((state_i.month > 0) & (state_i.month <= 6))]\n",
    "    z.append(state_i_spring.utilization.mean())\n",
    "\n",
    "for i in y:\n",
    "    state_i = data[data.state == i]\n",
    "    state_i_spring = state_i[((state_i.month > 6) & (state_i.month <= 9))]\n",
    "    z.append(state_i_spring.utilization.mean())\n",
    "\n",
    "for i in y:\n",
    "    state_i = data[data.state == i]\n",
    "    state_i_spring = state_i[((state_i.month > 9) & (state_i.month <= 12))]\n",
    "    z.append(state_i_spring.utilization.mean())\n",
    "\n",
    "t= []\n",
    "for i in range(4):\n",
    "    t.append(z[i * 4:(i+1) * 4])\n",
    "\n",
    "trace = [\n",
    "    go.Contour(\n",
    "        z = t,\n",
    "        x = y,\n",
    "        y = x\n",
    "    )]\n",
    "\n",
    "py.iplot(trace)"
   ]
  },
  {
   "cell_type": "code",
   "execution_count": 32,
   "metadata": {},
   "outputs": [
    {
     "data": {
      "text/html": [
       "<iframe id=\"igraph\" scrolling=\"no\" style=\"border:none;\" seamless=\"seamless\" src=\"https://plot.ly/~5005p/29.embed\" height=\"525px\" width=\"100%\"></iframe>"
      ],
      "text/plain": [
       "<plotly.tools.PlotlyDisplay object>"
      ]
     },
     "execution_count": 32,
     "metadata": {},
     "output_type": "execute_result"
    }
   ],
   "source": [
    "trace = []\n",
    "for i in data.state.unique():\n",
    "    a = np.random.randint(70, 200)\n",
    "    b = np.random.randint(70, 200)\n",
    "    c = np.random.randint(70, 200)\n",
    "    r = []\n",
    "    t = ['FEB', 'APR', 'JUN', 'SEP', 'OCT', 'DEC']\n",
    "    state_i = data[data.state == i]\n",
    "    r.append(state_i[state_i.month == 2].utilization.mean())\n",
    "    r.append(state_i[state_i.month == 4].utilization.mean())\n",
    "    r.append(state_i[state_i.month == 6].utilization.mean())\n",
    "    r.append(state_i[state_i.month == 9].utilization.mean())\n",
    "    r.append(state_i[state_i.month == 10].utilization.mean())\n",
    "    r.append(state_i[state_i.month == 12].utilization.mean())\n",
    "    \n",
    "    trace_i = go.Area(\n",
    "        r = r,\n",
    "        t = t,\n",
    "        name = i,\n",
    "        marker = dict(color = 'rgb({}, {}, {})'.format(a, b, c)))\n",
    "    trace.append(trace_i)\n",
    "\n",
    "layout = go.Layout(\n",
    "    title = 'low utilization detection',\n",
    "    font = dict(\n",
    "        size = 16\n",
    "        ),\n",
    "    legend = dict(\n",
    "        font = dict(\n",
    "            size = 16\n",
    "            )\n",
    "        ),\n",
    "    radialaxis = dict(\n",
    "        ticksuffix = '%'\n",
    "        ),\n",
    "    orientation = 270\n",
    "    )\n",
    "fig = go.Figure(data = trace, layout = layout)\n",
    "py.iplot(fig, filename = 'low utilization detection')  "
   ]
  },
  {
   "cell_type": "code",
   "execution_count": 3,
   "metadata": {},
   "outputs": [
    {
     "data": {
      "text/html": [
       "<iframe id=\"igraph\" scrolling=\"no\" style=\"border:none;\" seamless=\"seamless\" src=\"https://plot.ly/~5005p/49.embed\" height=\"525px\" width=\"100%\"></iframe>"
      ],
      "text/plain": [
       "<plotly.tools.PlotlyDisplay object>"
      ]
     },
     "execution_count": 3,
     "metadata": {},
     "output_type": "execute_result"
    }
   ],
   "source": [
    "trace = []\n",
    "j = 0\n",
    "for i in data.state.unique()[:2]:\n",
    "    state_i = data[data.state == i]\n",
    "    if j == 0:\n",
    "        fill = None\n",
    "    else:\n",
    "        fill = 'tonexty'\n",
    "    y = []\n",
    "    for k in sorted(state_i.month.unique()):\n",
    "        y.append(state_i[state_i.month == k].utilization.mean())\n",
    "    trace_i = go.Scatter(\n",
    "        x = np.array(range(len(state_i.month.unique()))),\n",
    "        y = np.array(y),\n",
    "        mode = \"lines\",\n",
    "        fill = fill,\n",
    "        name = i,\n",
    "        line = dict(\n",
    "        color = 'rgb(143, 19, 131)',\n",
    "    ))\n",
    "        \n",
    "    trace.append(trace_i)\n",
    "    j += 1\n",
    "\n",
    "py.iplot(trace, filename = 'delta utilization')"
   ]
  },
  {
   "cell_type": "code",
   "execution_count": 18,
   "metadata": {},
   "outputs": [
    {
     "data": {
      "text/html": [
       "<iframe id=\"igraph\" scrolling=\"no\" style=\"border:none;\" seamless=\"seamless\" src=\"https://plot.ly/~5005p/33.embed\" height=\"525px\" width=\"100%\"></iframe>"
      ],
      "text/plain": [
       "<plotly.tools.PlotlyDisplay object>"
      ]
     },
     "execution_count": 18,
     "metadata": {},
     "output_type": "execute_result"
    }
   ],
   "source": [
    "rawData = []\n",
    "for i in data.state.unique():\n",
    "    point = {}\n",
    "    state_i = data[data.state == i]\n",
    "    point['population'] = (state_i.capacity.mean() - data.capacity.min()) \\\n",
    "                        / (data.capacity.max() - data.capacity.min())\n",
    "    point['expense'] = (state_i.expense.mean() - data.expense.min()) \\\n",
    "                        / (data.expense.max() - data.expense.min())\n",
    "    point['utilization'] = (state_i.assigned.mean() - data.assigned.min()) \\\n",
    "                        / (data.assigned.max() - data.assigned.min())\n",
    "    point['label'] = i\n",
    "    rawData.append(point)\n",
    "\n",
    "\n",
    "def makeAxis(title, tickangle): \n",
    "    return {\n",
    "      'title': title,\n",
    "      'titlefont': { 'size': 20 },\n",
    "      'tickangle': tickangle,\n",
    "      'tickfont': { 'size': 15 },\n",
    "      'tickcolor': 'rgba(0,0,0,0)',\n",
    "      'ticklen': 5,\n",
    "      'showline': True,\n",
    "      'showgrid': True\n",
    "    }\n",
    "\n",
    "trace = [{ \n",
    "    'type': 'scatterternary',\n",
    "    'mode': 'markers',\n",
    "    'a': [i for i in map(lambda x: x['population'], rawData)],\n",
    "    'b': [i for i in map(lambda x: x['expense'], rawData)],\n",
    "    'c': [i for i in map(lambda x: x['utilization'], rawData)],\n",
    "    'text': [i for i in map(lambda x: x['label'], rawData)],\n",
    "    'marker': {\n",
    "        'symbol': 100,\n",
    "        'color': '#DB7365',\n",
    "        'size': 14,\n",
    "        'line': { 'width': 2 }\n",
    "    },\n",
    "    }]\n",
    "\n",
    "layout = {\n",
    "    'ternary': {\n",
    "        'sum': 100,\n",
    "        'aaxis': makeAxis('population', 0),\n",
    "        'baxis': makeAxis('<br>expense', 45),\n",
    "        'caxis': makeAxis('<br>utilization', -45)\n",
    "    },\n",
    "    'annotations': [{\n",
    "      'showarrow': False,\n",
    "      'text': 'Ternary Plot',\n",
    "        'x': 0.5,\n",
    "        'y': 1.3,\n",
    "        'font': { 'size': 15 }\n",
    "    }]\n",
    "}\n",
    "\n",
    "fig = {'data': trace, 'layout': layout}\n",
    "py.iplot(fig, validate=False)"
   ]
  },
  {
   "cell_type": "code",
   "execution_count": 29,
   "metadata": {},
   "outputs": [
    {
     "data": {
      "text/html": [
       "<iframe id=\"igraph\" scrolling=\"no\" style=\"border:none;\" seamless=\"seamless\" src=\"https://plot.ly/~5005p/47.embed\" height=\"525px\" width=\"100%\"></iframe>"
      ],
      "text/plain": [
       "<plotly.tools.PlotlyDisplay object>"
      ]
     },
     "execution_count": 29,
     "metadata": {},
     "output_type": "execute_result"
    }
   ],
   "source": [
    "trace = []\n",
    "for i in data.state.unique()[0:10]:\n",
    "    state_i = data[data.state == i]\n",
    "    a = np.random.randint(70, 230)\n",
    "    b = np.random.randint(70, 230)\n",
    "    c = np.random.randint(70, 230)\n",
    "    trace_i = go.Scatter(\n",
    "        r = np.array(state_i.assigned),\n",
    "        t = np.array(state_i.capacity),\n",
    "        mode = 'markers',\n",
    "        name = i,\n",
    "        marker = dict(\n",
    "            color = 'rgb({}, {}, {})'.format(a, b, c),\n",
    "            size = 110,\n",
    "            line = dict(\n",
    "                color = 'white'\n",
    "                ),\n",
    "         opacity = 0.7\n",
    "        )\n",
    "    )\n",
    "    trace.append(trace_i)\n",
    "\n",
    "layout = go.Layout(\n",
    "    title=' ',\n",
    "    font = dict(\n",
    "        size = 15\n",
    "    ),\n",
    "    plot_bgcolor = 'rgb(223, 223, 223)',\n",
    "    angularaxis = dict(\n",
    "        tickcolor = 'rgb(253,253,253)'\n",
    "    )\n",
    ")\n",
    "fig = go.Figure(data = trace, layout = layout)\n",
    "py.iplot(fig)"
   ]
  },
  {
   "cell_type": "code",
   "execution_count": 33,
   "metadata": {},
   "outputs": [
    {
     "data": {
      "text/html": [
       "<iframe id=\"igraph\" scrolling=\"no\" style=\"border:none;\" seamless=\"seamless\" src=\"https://plot.ly/~5005p/41.embed\" height=\"525px\" width=\"100%\"></iframe>"
      ],
      "text/plain": [
       "<plotly.tools.PlotlyDisplay object>"
      ]
     },
     "execution_count": 33,
     "metadata": {},
     "output_type": "execute_result"
    }
   ],
   "source": [
    "df = data2\n",
    "df['text'] = df['name'] + '<br>Population'\n",
    "limits = [(0, 500), (500, 2000) ,(2000, 4000), (4000, 9000), (9000, 13000)]\n",
    "colors = []\n",
    "for i in range(len(limits)):\n",
    "    colors.append(\"rgb({}, {}, {})\".format(np.random.randint(100,220), \\\n",
    "                                           np.random.randint(100,220), \\\n",
    "                                           np.random.randint(100,220)))\n",
    "cities = []\n",
    "scale = 100\n",
    "\n",
    "for i in range(len(limits)):\n",
    "    lim = limits[i]\n",
    "    df_sub = df[lim[0]:lim[1]]\n",
    "    city = dict(\n",
    "        type = 'scattergeo',\n",
    "        locationmode = 'USA-states',\n",
    "        lon = df_sub['lon'],\n",
    "        lat = df_sub['lat'],\n",
    "        text = df_sub['text'],\n",
    "        marker = dict(\n",
    "            size = df_sub['pop'] / scale,\n",
    "            color = colors[i],\n",
    "            line = dict(width = 0.5, \n",
    "                        color = 'rgb(40,40,40)'\n",
    "                       ),\n",
    "            sizemode = 'area'\n",
    "        ),\n",
    "        name = '{0} - {1}'.format(lim[0], lim[1])\n",
    "    )\n",
    "    cities.append(city)\n",
    "\n",
    "layout = dict(\n",
    "        title = 'population',\n",
    "        showlegend = True,\n",
    "        geo = dict(\n",
    "            scope = 'usa',\n",
    "            projection = dict( \n",
    "                type = 'albers usa' ),\n",
    "            showland = True,\n",
    "            landcolor = 'rgb(217, 217, 217)',\n",
    "            subunitwidth = 1,\n",
    "            countrywidth = 1,\n",
    "            subunitcolor = \"rgb(255, 255, 255)\",\n",
    "            countrycolor = \"rgb(255, 255, 255)\"\n",
    "        ),\n",
    "    )\n",
    "\n",
    "fig = dict( data = cities, layout = layout )\n",
    "py.iplot( fig, validate = False, filename = 'population' )"
   ]
  },
  {
   "cell_type": "code",
   "execution_count": null,
   "metadata": {
    "collapsed": true
   },
   "outputs": [],
   "source": []
  },
  {
   "cell_type": "code",
   "execution_count": null,
   "metadata": {
    "collapsed": true
   },
   "outputs": [],
   "source": []
  },
  {
   "cell_type": "code",
   "execution_count": 45,
   "metadata": {
    "collapsed": true
   },
   "outputs": [],
   "source": []
  },
  {
   "cell_type": "code",
   "execution_count": null,
   "metadata": {
    "collapsed": true
   },
   "outputs": [],
   "source": []
  },
  {
   "cell_type": "code",
   "execution_count": null,
   "metadata": {
    "collapsed": true
   },
   "outputs": [],
   "source": []
  },
  {
   "cell_type": "code",
   "execution_count": null,
   "metadata": {
    "collapsed": true
   },
   "outputs": [],
   "source": []
  },
  {
   "cell_type": "code",
   "execution_count": null,
   "metadata": {
    "collapsed": true
   },
   "outputs": [],
   "source": []
  }
 ],
 "metadata": {
  "kernelspec": {
   "display_name": "Python 2",
   "language": "python",
   "name": "python2"
  },
  "language_info": {
   "codemirror_mode": {
    "name": "ipython",
    "version": 2
   },
   "file_extension": ".py",
   "mimetype": "text/x-python",
   "name": "python",
   "nbconvert_exporter": "python",
   "pygments_lexer": "ipython2",
   "version": "2.7.13"
  }
 },
 "nbformat": 4,
 "nbformat_minor": 2
}
